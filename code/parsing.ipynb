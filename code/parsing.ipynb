{
 "cells": [
  {
   "cell_type": "code",
   "execution_count": 1,
   "metadata": {},
   "outputs": [],
   "source": [
    "from tqdm import tqdm, tnrange\n",
    "import json\n",
    "import pandas as pd\n",
    "import os\n",
    "\n",
    "import utils\n",
    "import parsers"
   ]
  },
  {
   "cell_type": "code",
   "execution_count": 2,
   "metadata": {},
   "outputs": [],
   "source": [
    "#e = utils.json_vocab_reader(\"../resources/semcor.input.vocab1.json\")"
   ]
  },
  {
   "cell_type": "code",
   "execution_count": null,
   "metadata": {},
   "outputs": [],
   "source": []
  },
  {
   "cell_type": "markdown",
   "metadata": {},
   "source": [
    "# Parse training XML file"
   ]
  },
  {
   "cell_type": "code",
   "execution_count": 4,
   "metadata": {},
   "outputs": [
    {
     "name": "stderr",
     "output_type": "stream",
     "text": [
      "37176it [00:06, 5834.65it/s]\n"
     ]
    },
    {
     "name": "stdout",
     "output_type": "stream",
     "text": [
      "37176 sentences parsed with 33849 words\n",
      "subsampled input vocab: 20399\n",
      "POS vocab:12\n",
      "left out vocab:1597\n"
     ]
    }
   ],
   "source": [
    "Training = parsers.TrainingParser('../resources/WSD_Evaluation_Framework/Training_Corpora/SemCor/semcor.data.xml')\n",
    "\n",
    "Training.create_vocab(input_vocab_path = \"../resources/semcor.input.vocab.MultiTask.json\",\n",
    "                      pos_vocab_path = \"../resources/semcor.pos.vocab.MultiTask.json\",\n",
    "                      left_out_vocab_path = \"../resources/semcor.leftout.vocab.MultiTask.json\",\n",
    "                      subsampling_rate=0,\n",
    "                      min_count=5)"
   ]
  },
  {
   "cell_type": "markdown",
   "metadata": {},
   "source": [
    "# converting eval datasets"
   ]
  },
  {
   "cell_type": "code",
   "execution_count": null,
   "metadata": {},
   "outputs": [],
   "source": [
    "dir_ = \"../resources/WSD_Evaluation_Framework/Evaluation_Datasets\"\n",
    "eval_datasets = [i for i in os.listdir(dir_) if i.startswith(\"se\")]\n",
    "eval_datasets"
   ]
  },
  {
   "cell_type": "code",
   "execution_count": null,
   "metadata": {},
   "outputs": [],
   "source": [
    "for name in eval_datasets:\n",
    "    print(\"Dataset: {}\".format(name))\n",
    "    \n",
    "    path = os.path.join(dir_, name)\n",
    "    gold_file = [i for i in os.listdir(path) if i.endswith('gold.key.txt')][0]\n",
    "    gold_file = os.path.join(path, gold_file)\n",
    "    print(\"using {}\".format(gold_file))\n",
    "\n",
    "    df = utils.parse_evaluation(gold_file = gold_file,\n",
    "                                babelnet2wordnet = '../resources/babelnet2wordnet.tsv',\n",
    "                                babelnet2wndomains = '../resources/babelnet2wndomains.tsv',\n",
    "                                babelnet2lexnames = '../resources/babelnet2lexnames.tsv')\n",
    "    base = gold_file.split(\".gold.key.txt\")[0]\n",
    "\n",
    "    df[['sentence_idx', 'babelnet']].to_csv(base+\".gold.babelnet.txt\", header=None, index=None, sep=' ')\n",
    "    df[['sentence_idx', 'wordnet_domains']].to_csv(base+\".gold.wordnet_domains.txt\", header=None, index=None, sep=' ')\n",
    "    df[['sentence_idx', 'lexicographer']].to_csv(base+\".gold.lexicographer.txt\", header=None, index=None, sep=' ')\n",
    "    \n",
    "    "
   ]
  },
  {
   "cell_type": "markdown",
   "metadata": {},
   "source": [
    "# Gold output vocab (training file semcor)"
   ]
  },
  {
   "cell_type": "code",
   "execution_count": null,
   "metadata": {},
   "outputs": [],
   "source": [
    "# df = utils.parse_evaluation(gold_file = \"../resources/WSD_Evaluation_Framework/Training_Corpora/SemCor/semcor.gold.key.txt\",\n",
    "#                             babelnet2wordnet = '../resources/babelnet2wordnet.tsv',\n",
    "#                             babelnet2wndomains = '../resources/babelnet2wndomains.tsv',\n",
    "#                             babelnet2lexnames = '../resources/babelnet2lexnames.tsv')"
   ]
  },
  {
   "cell_type": "code",
   "execution_count": null,
   "metadata": {},
   "outputs": [],
   "source": [
    "# for net in ['WordNet', 'BabelNet', 'WordNetDomain', 'LexNames']:\n",
    "#     output_vocab = df[net].dropna().unique()\n",
    "#     output_path = \"../resources/semcor.vocab.{}.json\".format(net)\n",
    "#     print(output_path)\n",
    "# #     with open(output_path, 'w') as f:\n",
    "# #         f.write('\\n'.join(output_vocab))\n",
    "#     with open(output_path, 'w') as f:\n",
    "#         json.dump(list(output_vocab), f)"
   ]
  },
  {
   "cell_type": "markdown",
   "metadata": {},
   "source": [
    "# Create mapping file between synset types to be used for all purposes"
   ]
  },
  {
   "cell_type": "code",
   "execution_count": null,
   "metadata": {},
   "outputs": [],
   "source": [
    "def create_mapping(output_path = \"../resources/mapping.csv\",\n",
    "                   babelnet2wordnet = '../resources/babelnet2wordnet.tsv',\n",
    "                   babelnet2wndomains = '../resources/babelnet2wndomains.tsv',\n",
    "                   babelnet2lexnames = '../resources/babelnet2lexnames.tsv'):\n",
    "    \"\"\"\n",
    "    creates a mapping csv\n",
    "    :param output_path: path\n",
    "    :param babelnet2wordnet: path\n",
    "    :param babelnet2wordnet: path\n",
    "    :param babelnet2wordnet: path\n",
    "    :return None: saves output csv to output_path\n",
    "    \"\"\"\n",
    "    \n",
    "    BabelNet = pd.read_csv(babelnet2wordnet, sep = '\\t', names = ['babelnet', 'WordNet'])\n",
    "    WordNetDomain = pd.read_csv(babelnet2wndomains, sep = '\\t', names = ['babelnet', 'wordnet_domains'])\n",
    "    LexicographerNet = pd.read_csv(babelnet2lexnames, sep = '\\t', names = ['babelnet', 'lexicographer'])\n",
    "    \n",
    "    df = BabelNet.join(WordNetDomain.set_index('babelnet'), on='babelnet')\n",
    "    df = df.join(LexicographerNet.set_index('babelnet'), on='babelnet')\n",
    "    \n",
    "    df.wordnet_domains.fillna(\"factotum\", inplace=True)\n",
    "    df.lexicographer.fillna(\"misc\", inplace=True)\n",
    "    \n",
    "    df.to_csv(output_path, index = False)"
   ]
  },
  {
   "cell_type": "code",
   "execution_count": null,
   "metadata": {},
   "outputs": [],
   "source": [
    "create_mapping()\n"
   ]
  },
  {
   "cell_type": "code",
   "execution_count": null,
   "metadata": {},
   "outputs": [],
   "source": []
  },
  {
   "cell_type": "code",
   "execution_count": null,
   "metadata": {},
   "outputs": [],
   "source": []
  },
  {
   "cell_type": "code",
   "execution_count": null,
   "metadata": {},
   "outputs": [],
   "source": []
  }
 ],
 "metadata": {
  "kernelspec": {
   "display_name": "Python 3",
   "language": "python",
   "name": "python3"
  },
  "language_info": {
   "codemirror_mode": {
    "name": "ipython",
    "version": 3
   },
   "file_extension": ".py",
   "mimetype": "text/x-python",
   "name": "python",
   "nbconvert_exporter": "python",
   "pygments_lexer": "ipython3",
   "version": "3.6.4"
  }
 },
 "nbformat": 4,
 "nbformat_minor": 2
}
