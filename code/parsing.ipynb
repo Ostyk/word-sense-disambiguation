{
 "cells": [
  {
   "cell_type": "code",
   "execution_count": 22,
   "metadata": {},
   "outputs": [],
   "source": [
    "from tqdm import tqdm, tnrange\n",
    "import json\n",
    "import pandas as pd\n",
    "import os\n",
    "\n",
    "import utils\n",
    "import parsers"
   ]
  },
  {
   "cell_type": "markdown",
   "metadata": {},
   "source": [
    "# Parse training XML file"
   ]
  },
  {
   "cell_type": "code",
   "execution_count": 2,
   "metadata": {},
   "outputs": [],
   "source": [
    "Training = parsers.TrainingParser('../resources/WSD_Evaluation_Framework/Training_Corpora/SemCor/semcor.data.xml')\n",
    "\n",
    "Training.create_vocab(input_vocab_path = \"../resources/semcor.input.vocab.json\",\n",
    "                      pos_vocab_path = \"../resources/semcor.pos.vocab.json\",\n",
    "                      left_out_vocab_path = \"../resources/semcor.leftout.vocab.json\",\n",
    "                      subsampling_rate=1e-4,\n",
    "                      min_count=5)"
   ]
  },
  {
   "cell_type": "markdown",
   "metadata": {},
   "source": [
    "# converting eval datasets"
   ]
  },
  {
   "cell_type": "code",
   "execution_count": 3,
   "metadata": {},
   "outputs": [
    {
     "data": {
      "text/plain": [
       "['semeval2013', 'semeval2015', 'senseval3', 'semeval2007', 'senseval2']"
      ]
     },
     "execution_count": 3,
     "metadata": {},
     "output_type": "execute_result"
    }
   ],
   "source": [
    "dir_ = \"../resources/WSD_Evaluation_Framework/Evaluation_Datasets\"\n",
    "eval_datasets = [i for i in os.listdir(dir_) if i.startswith(\"se\")]\n",
    "eval_datasets"
   ]
  },
  {
   "cell_type": "code",
   "execution_count": 21,
   "metadata": {},
   "outputs": [
    {
     "name": "stderr",
     "output_type": "stream",
     "text": [
      "Sensekey to Wordnet 1:   3%|▎         | 50/1644 [00:00<00:03, 491.94it/s]"
     ]
    },
    {
     "name": "stdout",
     "output_type": "stream",
     "text": [
      "Dataset: semeval2013\n",
      "using ../resources/WSD_Evaluation_Framework/Evaluation_Datasets/semeval2013/semeval2013.gold.key.txt\n"
     ]
    },
    {
     "name": "stderr",
     "output_type": "stream",
     "text": [
      "Sensekey to Wordnet 1: 100%|██████████| 1644/1644 [00:02<00:00, 652.83it/s]\n",
      "Sensekey to Wordnet 1:  17%|█▋        | 169/1022 [00:00<00:00, 1663.22it/s]"
     ]
    },
    {
     "name": "stdout",
     "output_type": "stream",
     "text": [
      "NA is 2.3%\n",
      "Dataset: semeval2015\n",
      "using ../resources/WSD_Evaluation_Framework/Evaluation_Datasets/semeval2015/semeval2015.gold.key.txt\n"
     ]
    },
    {
     "name": "stderr",
     "output_type": "stream",
     "text": [
      "Sensekey to Wordnet 1: 100%|██████████| 1022/1022 [00:00<00:00, 2405.48it/s]\n",
      "Sensekey to Wordnet 1:   0%|          | 0/1850 [00:00<?, ?it/s]"
     ]
    },
    {
     "name": "stdout",
     "output_type": "stream",
     "text": [
      "NA is 26.1%\n",
      "Dataset: senseval3\n",
      "using ../resources/WSD_Evaluation_Framework/Evaluation_Datasets/senseval3/senseval3.gold.key.txt\n"
     ]
    },
    {
     "name": "stderr",
     "output_type": "stream",
     "text": [
      "Sensekey to Wordnet 1: 100%|██████████| 1850/1850 [00:01<00:00, 1177.68it/s]\n",
      "Sensekey to Wordnet 1:  18%|█▊        | 84/455 [00:00<00:00, 829.68it/s]"
     ]
    },
    {
     "name": "stdout",
     "output_type": "stream",
     "text": [
      "NA is 19.9%\n",
      "Dataset: semeval2007\n",
      "using ../resources/WSD_Evaluation_Framework/Evaluation_Datasets/semeval2007/semeval2007.gold.key.txt\n"
     ]
    },
    {
     "name": "stderr",
     "output_type": "stream",
     "text": [
      "Sensekey to Wordnet 1: 100%|██████████| 455/455 [00:00<00:00, 1252.94it/s]\n",
      "Sensekey to Wordnet 1:  10%|▉         | 222/2282 [00:00<00:00, 2219.11it/s]"
     ]
    },
    {
     "name": "stdout",
     "output_type": "stream",
     "text": [
      "NA is 1.8%\n",
      "Dataset: senseval2\n",
      "using ../resources/WSD_Evaluation_Framework/Evaluation_Datasets/senseval2/senseval2.gold.key.txt\n"
     ]
    },
    {
     "name": "stderr",
     "output_type": "stream",
     "text": [
      "Sensekey to Wordnet 1: 100%|██████████| 2282/2282 [00:01<00:00, 1619.62it/s]\n"
     ]
    },
    {
     "name": "stdout",
     "output_type": "stream",
     "text": [
      "NA is 31.4%\n"
     ]
    }
   ],
   "source": [
    "for name in eval_datasets:\n",
    "    print(\"Dataset: {}\".format(name))\n",
    "    \n",
    "    path = os.path.join(dir_, name)\n",
    "    gold_file = [i for i in os.listdir(path) if i.endswith('gold.key.txt')][0]\n",
    "    gold_file = os.path.join(path, gold_file)\n",
    "    print(\"using {}\".format(gold_file))\n",
    "\n",
    "    df = utils.parse_evaluation(gold_file = gold_file,\n",
    "                                babelnet2wordnet = '../resources/babelnet2wordnet.tsv',\n",
    "                                babelnet2wndomains = '../resources/babelnet2wndomains.tsv',\n",
    "                                babelnet2lexnames = '../resources/babelnet2lexnames.tsv')\n",
    "    base = gold_file.split(\".gold.key.txt\")[0]\n",
    "\n",
    "    df[['sentence_idx', 'babelnet']].to_csv(base+\".gold.babelnet.txt\", header=None, index=None, sep=' ')\n",
    "    df[['sentence_idx', 'wordnet_domains']].to_csv(base+\".gold.wordnet_domains.txt\", header=None, index=None, sep=' ')\n",
    "    df[['sentence_idx', 'lexicographer']].to_csv(base+\".gold.lexicographer.txt\", header=None, index=None, sep=' ')\n",
    "    \n",
    "    "
   ]
  },
  {
   "cell_type": "markdown",
   "metadata": {},
   "source": [
    "# Gold output vocab (training file semcor)"
   ]
  },
  {
   "cell_type": "code",
   "execution_count": null,
   "metadata": {},
   "outputs": [],
   "source": [
    "# df = utils.parse_evaluation(gold_file = \"../resources/WSD_Evaluation_Framework/Training_Corpora/SemCor/semcor.gold.key.txt\",\n",
    "#                             babelnet2wordnet = '../resources/babelnet2wordnet.tsv',\n",
    "#                             babelnet2wndomains = '../resources/babelnet2wndomains.tsv',\n",
    "#                             babelnet2lexnames = '../resources/babelnet2lexnames.tsv')"
   ]
  },
  {
   "cell_type": "code",
   "execution_count": null,
   "metadata": {},
   "outputs": [],
   "source": [
    "# for net in ['WordNet', 'BabelNet', 'WordNetDomain', 'LexNames']:\n",
    "#     output_vocab = df[net].dropna().unique()\n",
    "#     output_path = \"../resources/semcor.vocab.{}.json\".format(net)\n",
    "#     print(output_path)\n",
    "# #     with open(output_path, 'w') as f:\n",
    "# #         f.write('\\n'.join(output_vocab))\n",
    "#     with open(output_path, 'w') as f:\n",
    "#         json.dump(list(output_vocab), f)"
   ]
  },
  {
   "cell_type": "markdown",
   "metadata": {},
   "source": [
    "# Create mapping file between synset types to be used for all purposes"
   ]
  },
  {
   "cell_type": "code",
   "execution_count": null,
   "metadata": {},
   "outputs": [],
   "source": [
    "def create_mapping(output_path = \"../resources/mapping.csv\",\n",
    "                   babelnet2wordnet = '../resources/babelnet2wordnet.tsv',\n",
    "                   babelnet2wndomains = '../resources/babelnet2wndomains.tsv',\n",
    "                   babelnet2lexnames = '../resources/babelnet2lexnames.tsv'):\n",
    "    \"\"\"\n",
    "    creates a mapping csv\n",
    "    :param output_path: path\n",
    "    :param babelnet2wordnet: path\n",
    "    :param babelnet2wordnet: path\n",
    "    :param babelnet2wordnet: path\n",
    "    :return None: saves output csv to output_path\n",
    "    \"\"\"\n",
    "    \n",
    "    BabelNet = pd.read_csv(babelnet2wordnet, sep = '\\t', names = ['babelnet', 'WordNet'])\n",
    "    WordNetDomain = pd.read_csv(babelnet2wndomains, sep = '\\t', names = ['babelnet', 'wordnet_domains'])\n",
    "    LexicographerNet = pd.read_csv(babelnet2lexnames, sep = '\\t', names = ['babelnet', 'lexicographer'])\n",
    "    \n",
    "    df = BabelNet.join(WordNetDomain.set_index('babelnet'), on='babelnet')\n",
    "    df = df.join(LexicographerNet.set_index('babelnet'), on='babelnet')\n",
    "    \n",
    "    df.wordnet_domains.fillna(\"factotum\", inplace=True)\n",
    "    df.lexicographer.fillna(\"misc\", inplace=True)\n",
    "    \n",
    "    df.to_csv(output_path, index = False)"
   ]
  },
  {
   "cell_type": "code",
   "execution_count": null,
   "metadata": {},
   "outputs": [],
   "source": [
    "create_mapping()\n"
   ]
  },
  {
   "cell_type": "code",
   "execution_count": null,
   "metadata": {},
   "outputs": [],
   "source": []
  },
  {
   "cell_type": "code",
   "execution_count": null,
   "metadata": {},
   "outputs": [],
   "source": []
  },
  {
   "cell_type": "code",
   "execution_count": null,
   "metadata": {},
   "outputs": [],
   "source": []
  }
 ],
 "metadata": {
  "kernelspec": {
   "display_name": "Python 3",
   "language": "python",
   "name": "python3"
  },
  "language_info": {
   "codemirror_mode": {
    "name": "ipython",
    "version": 3
   },
   "file_extension": ".py",
   "mimetype": "text/x-python",
   "name": "python",
   "nbconvert_exporter": "python",
   "pygments_lexer": "ipython3",
   "version": "3.6.4"
  }
 },
 "nbformat": 4,
 "nbformat_minor": 2
}
