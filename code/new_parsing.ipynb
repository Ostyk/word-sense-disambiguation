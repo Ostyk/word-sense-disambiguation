{
 "cells": [
  {
   "cell_type": "code",
   "execution_count": 2,
   "metadata": {},
   "outputs": [],
   "source": [
    "from tqdm import tqdm, tnrange, tqdm_notebook\n",
    "import json\n",
    "import pandas as pd\n",
    "import os\n",
    "\n",
    "import utils\n",
    "import parse"
   ]
  },
  {
   "cell_type": "markdown",
   "metadata": {},
   "source": [
    "# Parse training XML file"
   ]
  },
  {
   "cell_type": "code",
   "execution_count": null,
   "metadata": {},
   "outputs": [],
   "source": [
    "Training = parse.TrainingParser('../resources/WSD_Evaluation_Framework/Training_Corpora/SemCor/semcor.data.xml')\n",
    "\n",
    "Training.create_vocab(input_vocab_path = \"../resources/semcor.input.vocab.json\",\n",
    "                      pos_vocab_path = \"../resources/semcor.pos.vocab.json\",\n",
    "                      left_out_vocab_path = \"../resources/semcor.leftout.vocab.json\",\n",
    "                      subsampling_rate=1e-4,\n",
    "                      min_count=5)"
   ]
  },
  {
   "cell_type": "code",
   "execution_count": null,
   "metadata": {},
   "outputs": [],
   "source": []
  },
  {
   "cell_type": "markdown",
   "metadata": {},
   "source": [
    "# converting eval dataset"
   ]
  },
  {
   "cell_type": "code",
   "execution_count": null,
   "metadata": {},
   "outputs": [],
   "source": [
    "dir_ = \"../resources/WSD_Evaluation_Framework/Evaluation_Datasets\"\n",
    "eval_datasets = [i for i in os.listdir(dir_) if i.startswith(\"se\")]\n",
    "eval_datasets"
   ]
  },
  {
   "cell_type": "code",
   "execution_count": null,
   "metadata": {},
   "outputs": [],
   "source": [
    "for name in eval_datasets:\n",
    "    print(\"Dataset: {}\".format(name))\n",
    "    \n",
    "    path = os.path.join(dir_, name)\n",
    "    gold_file = [i for i in os.listdir(path) if i.endswith('gold.key.txt')][0]\n",
    "    gold_file = os.path.join(path, gold_file)\n",
    "    print(\"using {}\".format(gold_file))\n",
    "\n",
    "    df = utils.parse_evaluation(gold_file = gold_file,\n",
    "                                babelnet2wordnet = '../resources/babelnet2wordnet.tsv',\n",
    "                                babelnet2wndomains = '../resources/babelnet2wndomains.tsv',\n",
    "                                babelnet2lexnames = '../resources/babelnet2lexnames.tsv')\n",
    "\n",
    "    save_path = os.path.join(path, name+\".csv\")\n",
    "    df.to_csv(save_path)\n",
    "    \n",
    "    "
   ]
  },
  {
   "cell_type": "markdown",
   "metadata": {},
   "source": [
    "# Gold output vocab"
   ]
  },
  {
   "cell_type": "code",
   "execution_count": 3,
   "metadata": {},
   "outputs": [
    {
     "name": "stderr",
     "output_type": "stream",
     "text": [
      "Sensekey to Wordnet 1: 100%|██████████| 226036/226036 [00:54<00:00, 4128.82it/s]\n"
     ]
    },
    {
     "name": "stdout",
     "output_type": "stream",
     "text": [
      "NA is 23.9%\n"
     ]
    }
   ],
   "source": [
    "df = utils.parse_evaluation(gold_file = \"../resources/WSD_Evaluation_Framework/Training_Corpora/SemCor/semcor.gold.key.txt\",\n",
    "                            babelnet2wordnet = '../resources/babelnet2wordnet.tsv',\n",
    "                            babelnet2wndomains = '../resources/babelnet2wndomains.tsv',\n",
    "                            babelnet2lexnames = '../resources/babelnet2lexnames.tsv')"
   ]
  },
  {
   "cell_type": "code",
   "execution_count": null,
   "metadata": {},
   "outputs": [],
   "source": []
  },
  {
   "cell_type": "code",
   "execution_count": 5,
   "metadata": {},
   "outputs": [
    {
     "name": "stdout",
     "output_type": "stream",
     "text": [
      "../resources/semcor.vocab.WordNet.json\n",
      "../resources/semcor.vocab.BabelNet.json\n",
      "../resources/semcor.vocab.WordNetDomain.json\n",
      "../resources/semcor.vocab.LexNames.json\n"
     ]
    }
   ],
   "source": [
    "for net in ['WordNet', 'BabelNet', 'WordNetDomain', 'LexNames']:\n",
    "    output_vocab = df[net].dropna().unique()\n",
    "    output_path = \"../resources/semcor.vocab.{}.json\".format(net)\n",
    "    print(output_path)\n",
    "#     with open(output_path, 'w') as f:\n",
    "#         f.write('\\n'.join(output_vocab))\n",
    "    with open(output_path, 'w') as f:\n",
    "        json.dump(list(output_vocab), f)"
   ]
  },
  {
   "cell_type": "code",
   "execution_count": 4,
   "metadata": {},
   "outputs": [
    {
     "data": {
      "text/html": [
       "<div>\n",
       "<style scoped>\n",
       "    .dataframe tbody tr th:only-of-type {\n",
       "        vertical-align: middle;\n",
       "    }\n",
       "\n",
       "    .dataframe tbody tr th {\n",
       "        vertical-align: top;\n",
       "    }\n",
       "\n",
       "    .dataframe thead th {\n",
       "        text-align: right;\n",
       "    }\n",
       "</style>\n",
       "<table border=\"1\" class=\"dataframe\">\n",
       "  <thead>\n",
       "    <tr style=\"text-align: right;\">\n",
       "      <th></th>\n",
       "      <th>sentence_idx</th>\n",
       "      <th>sensekey1</th>\n",
       "      <th>WordNet</th>\n",
       "      <th>BabelNet</th>\n",
       "      <th>WordNetDomain</th>\n",
       "      <th>LexNames</th>\n",
       "    </tr>\n",
       "  </thead>\n",
       "  <tbody>\n",
       "    <tr>\n",
       "      <th>0</th>\n",
       "      <td>d000.s000.t000</td>\n",
       "      <td>long%3:00:02::</td>\n",
       "      <td>wn:01437963a</td>\n",
       "      <td>bn:00106124a</td>\n",
       "      <td>factotum</td>\n",
       "      <td>adj.all</td>\n",
       "    </tr>\n",
       "    <tr>\n",
       "      <th>1</th>\n",
       "      <td>d000.s000.t001</td>\n",
       "      <td>be%2:42:03::</td>\n",
       "      <td>wn:02604760v</td>\n",
       "      <td>bn:00083181v</td>\n",
       "      <td>factotum</td>\n",
       "      <td>verb.stative</td>\n",
       "    </tr>\n",
       "    <tr>\n",
       "      <th>2</th>\n",
       "      <td>d000.s000.t002</td>\n",
       "      <td>review%2:31:00::</td>\n",
       "      <td>wn:00696189v</td>\n",
       "      <td>bn:00092618v</td>\n",
       "      <td>factotum</td>\n",
       "      <td>verb.cognition</td>\n",
       "    </tr>\n",
       "    <tr>\n",
       "      <th>3</th>\n",
       "      <td>d000.s000.t003</td>\n",
       "      <td>objective%1:09:00::</td>\n",
       "      <td>wn:05981230n</td>\n",
       "      <td>bn:00002179n</td>\n",
       "      <td>factotum</td>\n",
       "      <td>noun.cognition</td>\n",
       "    </tr>\n",
       "    <tr>\n",
       "      <th>4</th>\n",
       "      <td>d000.s000.t004</td>\n",
       "      <td>benefit%1:21:00::</td>\n",
       "      <td>wn:13296899n</td>\n",
       "      <td>bn:00009904n</td>\n",
       "      <td>economy</td>\n",
       "      <td>noun.possession</td>\n",
       "    </tr>\n",
       "  </tbody>\n",
       "</table>\n",
       "</div>"
      ],
      "text/plain": [
       "     sentence_idx            sensekey1       WordNet      BabelNet  \\\n",
       "0  d000.s000.t000       long%3:00:02::  wn:01437963a  bn:00106124a   \n",
       "1  d000.s000.t001         be%2:42:03::  wn:02604760v  bn:00083181v   \n",
       "2  d000.s000.t002     review%2:31:00::  wn:00696189v  bn:00092618v   \n",
       "3  d000.s000.t003  objective%1:09:00::  wn:05981230n  bn:00002179n   \n",
       "4  d000.s000.t004    benefit%1:21:00::  wn:13296899n  bn:00009904n   \n",
       "\n",
       "  WordNetDomain         LexNames  \n",
       "0      factotum          adj.all  \n",
       "1      factotum     verb.stative  \n",
       "2      factotum   verb.cognition  \n",
       "3      factotum   noun.cognition  \n",
       "4       economy  noun.possession  "
      ]
     },
     "execution_count": 4,
     "metadata": {},
     "output_type": "execute_result"
    }
   ],
   "source": [
    "df.head()"
   ]
  },
  {
   "cell_type": "code",
   "execution_count": null,
   "metadata": {},
   "outputs": [],
   "source": []
  }
 ],
 "metadata": {
  "kernelspec": {
   "display_name": "Python 3",
   "language": "python",
   "name": "python3"
  },
  "language_info": {
   "codemirror_mode": {
    "name": "ipython",
    "version": 3
   },
   "file_extension": ".py",
   "mimetype": "text/x-python",
   "name": "python",
   "nbconvert_exporter": "python",
   "pygments_lexer": "ipython3",
   "version": "3.6.4"
  }
 },
 "nbformat": 4,
 "nbformat_minor": 2
}
