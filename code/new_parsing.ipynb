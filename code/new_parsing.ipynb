{
 "cells": [
  {
   "cell_type": "code",
   "execution_count": 1,
   "metadata": {},
   "outputs": [],
   "source": [
    "from tqdm import tqdm, tnrange, tqdm_notebook\n",
    "import json\n",
    "import pandas as pd\n",
    "import os\n",
    "\n",
    "import utils\n",
    "import parse"
   ]
  },
  {
   "cell_type": "markdown",
   "metadata": {},
   "source": [
    "# Parse training XML file"
   ]
  },
  {
   "cell_type": "code",
   "execution_count": null,
   "metadata": {},
   "outputs": [],
   "source": [
    "Training = parse.TrainingParser('../resources/WSD_Evaluation_Framework/Training_Corpora/SemCor/semcor.data.xml')\n",
    "\n",
    "Training.create_vocab(input_vocab_path = \"../resources/semcor.input.vocab.json\",\n",
    "                      pos_vocab_path = \"../resources/semcor.pos.vocab.json\",\n",
    "                      left_out_vocab_path = \"../resources/semcor.leftout.vocab.json\",\n",
    "                      subsampling_rate=1e-4,\n",
    "                      min_count=5)"
   ]
  },
  {
   "cell_type": "code",
   "execution_count": null,
   "metadata": {},
   "outputs": [],
   "source": []
  },
  {
   "cell_type": "markdown",
   "metadata": {},
   "source": [
    "# converting eval dataset"
   ]
  },
  {
   "cell_type": "code",
   "execution_count": null,
   "metadata": {},
   "outputs": [],
   "source": [
    "dir_ = \"../resources/WSD_Evaluation_Framework/Evaluation_Datasets\"\n",
    "eval_datasets = [i for i in os.listdir(dir_) if i.startswith(\"se\")]\n",
    "eval_datasets"
   ]
  },
  {
   "cell_type": "code",
   "execution_count": null,
   "metadata": {},
   "outputs": [],
   "source": [
    "for name in eval_datasets:\n",
    "    print(\"Dataset: {}\".format(name))\n",
    "    \n",
    "    path = os.path.join(dir_, name)\n",
    "    gold_file = [i for i in os.listdir(path) if i.endswith('gold.key.txt')][0]\n",
    "    gold_file = os.path.join(path, gold_file)\n",
    "    print(\"using {}\".format(gold_file))\n",
    "\n",
    "    df = utils.parse_evaluation(gold_file = gold_file,\n",
    "                                babelnet2wordnet = '../resources/babelnet2wordnet.tsv',\n",
    "                                babelnet2wndomains = '../resources/babelnet2wndomains.tsv',\n",
    "                                babelnet2lexnames = '../resources/babelnet2lexnames.tsv')\n",
    "\n",
    "    save_path = os.path.join(path, name+\".csv\")\n",
    "    df.to_csv(save_path)\n",
    "    \n",
    "    "
   ]
  },
  {
   "cell_type": "markdown",
   "metadata": {},
   "source": [
    "# Gold output vocab"
   ]
  },
  {
   "cell_type": "code",
   "execution_count": 2,
   "metadata": {},
   "outputs": [
    {
     "name": "stderr",
     "output_type": "stream",
     "text": [
      "Sensekey to Wordnet 1: 100%|██████████| 226036/226036 [01:12<00:00, 3119.53it/s]\n"
     ]
    },
    {
     "name": "stdout",
     "output_type": "stream",
     "text": [
      "NA is 23.9%\n"
     ]
    }
   ],
   "source": [
    "df = utils.parse_evaluation(gold_file = \"../resources/WSD_Evaluation_Framework/Training_Corpora/SemCor/semcor.gold.key.txt\",\n",
    "                            babelnet2wordnet = '../resources/babelnet2wordnet.tsv',\n",
    "                            babelnet2wndomains = '../resources/babelnet2wndomains.tsv',\n",
    "                            babelnet2lexnames = '../resources/babelnet2lexnames.tsv')"
   ]
  },
  {
   "cell_type": "code",
   "execution_count": null,
   "metadata": {},
   "outputs": [],
   "source": []
  },
  {
   "cell_type": "code",
   "execution_count": 4,
   "metadata": {},
   "outputs": [
    {
     "name": "stdout",
     "output_type": "stream",
     "text": [
      "../resources/semcor.vocab.BabelNet.json\n",
      "../resources/semcor.vocab.WordNetDomain.json\n",
      "../resources/semcor.vocab.LexNames.json\n"
     ]
    }
   ],
   "source": [
    "for net in ['BabelNet', 'WordNetDomain', 'LexNames']:\n",
    "    output_vocab = df[net].dropna().unique()\n",
    "    output_path = \"../resources/semcor.vocab.{}.json\".format(net)\n",
    "    print(output_path)\n",
    "#     with open(output_path, 'w') as f:\n",
    "#         f.write('\\n'.join(output_vocab))\n",
    "    with open(output_path, 'w') as f:\n",
    "        json.dump(list(output_vocab), f)"
   ]
  },
  {
   "cell_type": "code",
   "execution_count": null,
   "metadata": {},
   "outputs": [],
   "source": []
  },
  {
   "cell_type": "code",
   "execution_count": null,
   "metadata": {},
   "outputs": [],
   "source": []
  }
 ],
 "metadata": {
  "kernelspec": {
   "display_name": "Python 3",
   "language": "python",
   "name": "python3"
  },
  "language_info": {
   "codemirror_mode": {
    "name": "ipython",
    "version": 3
   },
   "file_extension": ".py",
   "mimetype": "text/x-python",
   "name": "python",
   "nbconvert_exporter": "python",
   "pygments_lexer": "ipython3",
   "version": "3.6.4"
  }
 },
 "nbformat": 4,
 "nbformat_minor": 2
}
