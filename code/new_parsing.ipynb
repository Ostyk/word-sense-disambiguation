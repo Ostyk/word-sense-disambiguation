{
 "cells": [
  {
   "cell_type": "code",
   "execution_count": null,
   "metadata": {},
   "outputs": [],
   "source": [
    "from tqdm import tqdm, tnrange, tqdm_notebook\n",
    "import json\n",
    "import pandas as pd\n",
    "import os\n",
    "\n",
    "import utils"
   ]
  },
  {
   "cell_type": "markdown",
   "metadata": {},
   "source": [
    "# converting eval dataset"
   ]
  },
  {
   "cell_type": "code",
   "execution_count": null,
   "metadata": {},
   "outputs": [],
   "source": [
    "dir_ = \"../resources/WSD_Evaluation_Framework/Evaluation_Datasets\"\n",
    "eval_datasets = [i for i in os.listdir(dir_) if i.startswith(\"se\")]\n",
    "eval_datasets"
   ]
  },
  {
   "cell_type": "code",
   "execution_count": null,
   "metadata": {},
   "outputs": [],
   "source": [
    "for name in eval_datasets:\n",
    "    print(\"Dataset: {}\".format(name))\n",
    "    \n",
    "    path = os.path.join(dir_, name)\n",
    "    gold_file = [i for i in os.listdir(path) if i.endswith('gold.key.txt')][0]\n",
    "    gold_file = os.path.join(path, gold_file)\n",
    "    print(\"using {}\".format(gold_file))\n",
    "\n",
    "    df = utils.parse_evaluation(gold_file = gold_file,\n",
    "                                babelnet2wordnet = '../resources/babelnet2wordnet.tsv',\n",
    "                                babelnet2wndomains = '../resources/babelnet2wndomains.tsv',\n",
    "                                babelnet2lexnames = '../resources/babelnet2lexnames.tsv')\n",
    "\n",
    "    save_path = os.path.join(path, name+\".csv\")\n",
    "    df.to_csv(save_path)\n",
    "    \n",
    "    "
   ]
  },
  {
   "cell_type": "markdown",
   "metadata": {},
   "source": [
    "# Gold output vocab"
   ]
  },
  {
   "cell_type": "code",
   "execution_count": null,
   "metadata": {},
   "outputs": [],
   "source": [
    "df = utils.parse_evaluation(gold_file = \"../resources/WSD_Evaluation_Framework/Training_Corpora/SemCor/semcor.gold.key.txt\",\n",
    "                            babelnet2wordnet = '../resources/babelnet2wordnet.tsv',\n",
    "                            babelnet2wndomains = '../resources/babelnet2wndomains.tsv',\n",
    "                            babelnet2lexnames = '../resources/babelnet2lexnames.tsv')"
   ]
  },
  {
   "cell_type": "code",
   "execution_count": null,
   "metadata": {},
   "outputs": [],
   "source": [
    "for net in ['BabelNet', 'WordNetDomain', 'LexNames']:\n",
    "    output_vocab = df[net].dropna().unique()\n",
    "    output_path = \"../resources/semcor.vocab.{}.txt\".format(net)\n",
    "    with open(output_path, 'w') as f:\n",
    "        f.write('\\n'.join(output_vocab))"
   ]
  },
  {
   "cell_type": "code",
   "execution_count": null,
   "metadata": {},
   "outputs": [],
   "source": [
    "#TO DO read vocab"
   ]
  }
 ],
 "metadata": {
  "kernelspec": {
   "display_name": "Python 3",
   "language": "python",
   "name": "python3"
  },
  "language_info": {
   "codemirror_mode": {
    "name": "ipython",
    "version": 3
   },
   "file_extension": ".py",
   "mimetype": "text/x-python",
   "name": "python",
   "nbconvert_exporter": "python",
   "pygments_lexer": "ipython3",
   "version": "3.6.4"
  }
 },
 "nbformat": 4,
 "nbformat_minor": 2
}
