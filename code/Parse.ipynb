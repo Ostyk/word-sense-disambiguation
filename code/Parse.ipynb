{
 "cells": [
  {
   "cell_type": "code",
   "execution_count": 1,
   "metadata": {},
   "outputs": [],
   "source": [
    "from lxml import etree\n",
    "from collections import namedtuple\n",
    "from tqdm import tqdm, tnrange, tqdm_notebook\n",
    "import json\n",
    "import pandas as pd\n",
    "import utils\n",
    "import os\n"
   ]
  },
  {
   "cell_type": "code",
   "execution_count": 2,
   "metadata": {},
   "outputs": [
    {
     "name": "stdout",
     "output_type": "stream",
     "text": [
      "semcor.data.xml     semcor.gold.key.txt\n"
     ]
    }
   ],
   "source": [
    "# sentences = []\n",
    "# c=0\n",
    "# for sentence in tqdm(Training.parse()):\n",
    "#     c+=1\n",
    "#     sentences.append([i.lemma for i in sentence])\n",
    "#     break\n",
    "!ls ../resources/WSD_Evaluation_Framework/Training_Corpora/SemCor"
   ]
  },
  {
   "cell_type": "markdown",
   "metadata": {},
   "source": [
    "# Gold"
   ]
  },
  {
   "cell_type": "code",
   "execution_count": null,
   "metadata": {},
   "outputs": [],
   "source": [
    "class GoldParser(object):\n",
    "    \"\"\"\n",
    "    Class to parse the txt gold files\n",
    "    \"\"\"\n",
    "    def __init__(self, file):\n",
    "        self.file = file\n",
    "        self.records = namedtuple(\"GoldEntry\", \"id_ senses\")\n",
    "    def parse(self):\n",
    "        \n",
    "        with open(self.file, mode=\"r\") as goldfile:\n",
    "            for line in goldfile:\n",
    "                line = line.strip().split(\" \")\n",
    "                entry = self.records(id_ = line[0],\n",
    "                                     senses = list({utils.sensekeyToSynsetConverter(i)\n",
    "                                                    for i in line[1:]}))\n",
    "                yield entry"
   ]
  },
  {
   "cell_type": "code",
   "execution_count": null,
   "metadata": {},
   "outputs": [],
   "source": [
    "#Gold = GoldParser('../resources/training-data/WSD_Training_Corpora/SemCor+OMSTI/semcor+omsti.gold.key.txt')\n",
    "#Gold = GoldParser('../resources/training-data/WSD_Training_Corpora/SemCor/semcor.gold.key.txt')"
   ]
  },
  {
   "cell_type": "code",
   "execution_count": null,
   "metadata": {},
   "outputs": [],
   "source": [
    "# c = 0\n",
    "# entries = []\n",
    "# for entry in tqdm(Gold.parse()):\n",
    "#     c+=1\n",
    "#     entries.append(entry)\n"
   ]
  },
  {
   "cell_type": "code",
   "execution_count": null,
   "metadata": {},
   "outputs": [],
   "source": [
    "#entries = [i for i in tqdm(Gold.parse())]\n",
    "    "
   ]
  },
  {
   "cell_type": "code",
   "execution_count": null,
   "metadata": {},
   "outputs": [],
   "source": [
    "class EvaluationParser(object):\n",
    "    \"\"\"\n",
    "    Class to parse the txt evaluation files\n",
    "    \"\"\"\n",
    "    def __init__(self, gold_path):\n",
    "        self.gold_path = gold_path\n",
    "        \n",
    "    @staticmethod\n",
    "    def read_mapping(file):\n",
    "        \"\"\"\n",
    "        reads current mapping and returns a dict\n",
    "        \"\"\"\n",
    "        with open(file, mode=\"r\") as f:\n",
    "            mapping = {}\n",
    "            for line in f:\n",
    "                line = line.strip().split(\"\\t\")\n",
    "                key, value = line[:2]\n",
    "                mapping.update({value:key})\n",
    "        return mapping\n",
    "    \n",
    "    def to_babelnet(self, input_path, output_path):\n",
    "        \"\"\"\n",
    "        WordNet to BabelNet\n",
    "        \"\"\"\n",
    "        current_mapping = self.read_mapping(input_path)\n",
    "        \n",
    "        with open(self.gold_path, 'r') as f, open(output_path, 'w') as out:\n",
    "            \n",
    "            for line in tqdm(f, \"WordNet to BabelNet\"):\n",
    "                line = line.strip().split(\" \")\n",
    "                if len(line)<2:\n",
    "                    continue\n",
    "                id_, sense_key = line[:2]  \n",
    "                wn_id = utils.sensekeyToSynsetConverter(sense_key)\n",
    "                fmt = \"{} {}\\n\".format(id_, current_mapping[wn_id])\n",
    "                out.write(fmt)\n",
    "                out.flush()\n",
    "                \n",
    "    def to_coarse_grained(self, input_path, output_path, babelnet_path, type_='LEX'):\n",
    "        \"\"\"\n",
    "        BabelNet to WordNet Domain or LEX\n",
    "        :param babelnet_path: babelnet mapping\n",
    "        :param type_: LEX or WND\n",
    "        \"\"\"\n",
    "        current_mapping = self.read_mapping(input_path)\n",
    "        current_mapping = dict(zip(current_mapping.values(), current_mapping.keys()))\n",
    "        with open(babelnet_path, 'r') as f, open(output_path, 'w') as out:\n",
    "            for line in tqdm(f, \"BabelNet to {}\".format(type_)):\n",
    "                line = line.strip().split(\" \")\n",
    "                if len(line)<2:\n",
    "                    continue\n",
    "                id_, bn_id = line[:2] \n",
    "                if bn_id in current_mapping.keys():\n",
    "                    new = current_mapping[bn_id]\n",
    "                    print(new)\n",
    "                else:\n",
    "                    new = '<missing-' + type_ + '>'\n",
    "                \n",
    "                fmt = \"{} {}\\n\".format(id_, new)\n",
    "                out.write(fmt)\n",
    "                out.flush()\n",
    "    "
   ]
  },
  {
   "cell_type": "code",
   "execution_count": null,
   "metadata": {},
   "outputs": [],
   "source": [
    "\n",
    "def listdir_fullpath(d):\n",
    "    return [os.path.join(d, f) for f in os.listdir(d)]\n",
    "\n",
    "dir_ = \"../resources/WSD_Evaluation_Framework/Evaluation_Datasets\"\n",
    "eval_datasets = [i for i in os.listdir(dir_) if i.startswith(\"se\")]\n",
    "eval_datasets"
   ]
  },
  {
   "cell_type": "code",
   "execution_count": null,
   "metadata": {},
   "outputs": [],
   "source": [
    "for name in eval_datasets:\n",
    "    print(\"Dataset: {}\".format(name))\n",
    "    \n",
    "    path = os.path.join(dir_, name)\n",
    "    gold_file = [i for i in os.listdir(path) if i.endswith('gold.key.txt')][0]\n",
    "    gold_file = os.path.join(path, gold_file)\n",
    "    print(\"using {}\".format(gold_file))\n",
    "    Eval = EvaluationParser(gold_file)\n",
    "    \n",
    "    bn_output_path = os.path.join(path, 'gold_BN.txt')\n",
    "    print(bn_output_path)\n",
    "    Eval.to_babelnet(input_path = '../resources/babelnet2wordnet.tsv',\n",
    "                     output_path = bn_output_path)\n",
    "    \n",
    "    \n",
    "    #to WordNetDomain\n",
    "    Eval.to_coarse_grained(input_path = '../resources/babelnet2wndomains.tsv',\n",
    "                          output_path = os.path.join(path, 'gold_WND.txt'),\n",
    "                          babelnet_path = bn_output_path,\n",
    "                          type_='WND')\n",
    "    \n",
    "    #to LEX\n",
    "    Eval.to_coarse_grained(input_path = '../resources/babelnet2lexnames.tsv',\n",
    "                          output_path = os.path.join(path, 'gold_LEX.txt'),\n",
    "                          babelnet_path = bn_output_path,\n",
    "                          type_='LEX')\n",
    "    \n",
    "    \n",
    "#     df = parse_me(gold_file = gold_file,\n",
    "#              babelnet2wordnet = '../resources/babelnet2wordnet.tsv',\n",
    "#              babelnet2wndomains = '../resources/babelnet2wndomains.tsv',\n",
    "#              babelnet2lexnames = '../resources/babelnet2lexnames.tsv')\n",
    "    \n",
    "    \n",
    "    "
   ]
  }
 ],
 "metadata": {
  "kernelspec": {
   "display_name": "Python 3",
   "language": "python",
   "name": "python3"
  },
  "language_info": {
   "codemirror_mode": {
    "name": "ipython",
    "version": 3
   },
   "file_extension": ".py",
   "mimetype": "text/x-python",
   "name": "python",
   "nbconvert_exporter": "python",
   "pygments_lexer": "ipython3",
   "version": "3.6.4"
  }
 },
 "nbformat": 4,
 "nbformat_minor": 2
}
