{
 "cells": [
  {
   "cell_type": "code",
   "execution_count": 11,
   "metadata": {},
   "outputs": [],
   "source": [
    "from lxml import etree\n",
    "from collections import namedtuple\n",
    "from tqdm import tqdm, tnrange, tqdm_notebook\n",
    "import json"
   ]
  },
  {
   "cell_type": "code",
   "execution_count": 16,
   "metadata": {},
   "outputs": [],
   "source": [
    "class TrainingParser(object):\n",
    "    \"\"\"\n",
    "    Class to parse the XML training file\n",
    "    \"\"\"\n",
    "    def __init__(self, xml_file):\n",
    "        self.xml_file = xml_file\n",
    "        self.records = namedtuple(\"Training\", \"id_ lemma pos instance\")\n",
    "        \n",
    "    def parse(self):\n",
    "        \"\"\"\n",
    "        Parses the archived training XML file in Raganato's format\n",
    "        :param archived_xml: path to XML file\n",
    "        :return: sentence generator\n",
    "        \"\"\"\n",
    "        for event, sentence in etree.iterparse(self.xml_file, tag=\"sentence\"):\n",
    "            to_generator = []\n",
    "            if event == 'end':\n",
    "                for elem in sentence:\n",
    "                    item = self.records(id_ = elem.get(\"id\") if elem.tag == 'instance' else None,\n",
    "                                        lemma = elem.get(\"lemma\"),\n",
    "                                        pos = elem.get(\"pos\"),\n",
    "                                        instance = True if elem.tag == 'instance' else False)\n",
    "                    to_generator.append(item)\n",
    "                yield to_generator\n",
    "            sentence.clear()\n",
    "            \n",
    "    def create_vocab(self, input_vocab_path, pos_vocab_path):\n",
    "        \"\"\"\n",
    "        Creates  two vocabularies: Input and POS\n",
    "        :param input_vocab_path: path to save input_vocab\n",
    "        :param pos_vocab_path:  path to save pos_vocab\n",
    "        :return: None, JSON dumps to given paths\n",
    "        \"\"\"\n",
    "        input_vocab, pos_vocab = {}, {}\n",
    "        words_total, count = 0, 0\n",
    "\n",
    "        for sentence in tqdm(self.parse()):\n",
    "            count += 1\n",
    "\n",
    "            for word in sentence:\n",
    "                lemma = word.lemma\n",
    "                pos = word.pos\n",
    "\n",
    "                # handling OOV\n",
    "                if pos in [\".\", \"PUNCT\"]: lemma = \"<PUNCT>\"\n",
    "                elif pos == 'NUM': lemma = \"<NUM>\"\n",
    "                elif pos == 'SYM': lemma = \"<SYM>\"\n",
    "\n",
    "                input_vocab[lemma] =  input_vocab.get(lemma, 0) + 1\n",
    "                pos_vocab[pos] = pos_vocab.get(pos, 0) + 1\n",
    "\n",
    "                words_total += 1\n",
    "\n",
    "            if count % 10_000 == 0:\n",
    "                print(\"{} sentences parsed thus far, with {} tags\".format(count, len(input_vocab)))\n",
    "                break\n",
    "                \n",
    "        with open(input_vocab_path, 'w') as f:\n",
    "            json.dump(input_vocab, f)\n",
    "        \n",
    "        with open(pos_vocab_path, 'w') as f:\n",
    "            json.dump(pos_vocab, f)\n"
   ]
  },
  {
   "cell_type": "code",
   "execution_count": 17,
   "metadata": {},
   "outputs": [],
   "source": [
    "Training = TrainingParser('../resources/WSD_Evaluation_Framework/Training_Corpora/SemCor+OMSTI/semcor+omsti.data.xml')"
   ]
  },
  {
   "cell_type": "code",
   "execution_count": 18,
   "metadata": {},
   "outputs": [
    {
     "name": "stderr",
     "output_type": "stream",
     "text": [
      "9712it [00:01, 7942.71it/s]"
     ]
    },
    {
     "name": "stdout",
     "output_type": "stream",
     "text": [
      "10000 sentences parsed thus far, with 14318 tags\n"
     ]
    },
    {
     "name": "stderr",
     "output_type": "stream",
     "text": [
      "\n"
     ]
    }
   ],
   "source": [
    "Training.create_vocab(input_vocab_path = \"../resources/extracted-data/semcor+omsti.input.vocab.txt\",\n",
    "                      pos_vocab_path = \"../resources/extracted-data/semcor+omsti.pos.vocab.txt\")"
   ]
  }
 ],
 "metadata": {
  "kernelspec": {
   "display_name": "Python 3",
   "language": "python",
   "name": "python3"
  },
  "language_info": {
   "codemirror_mode": {
    "name": "ipython",
    "version": 3
   },
   "file_extension": ".py",
   "mimetype": "text/x-python",
   "name": "python",
   "nbconvert_exporter": "python",
   "pygments_lexer": "ipython3",
   "version": "3.6.4"
  }
 },
 "nbformat": 4,
 "nbformat_minor": 2
}
