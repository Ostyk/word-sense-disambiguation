{
 "cells": [
  {
   "cell_type": "code",
   "execution_count": 1,
   "metadata": {},
   "outputs": [],
   "source": [
    "from tqdm import tqdm, tnrange, tqdm_notebook\n",
    "import json\n",
    "import pandas as pd\n",
    "import os\n",
    "\n",
    "import utils\n",
    "import parse"
   ]
  },
  {
   "cell_type": "code",
   "execution_count": 22,
   "metadata": {},
   "outputs": [],
   "source": [
    "from nltk.corpus import wordnet as wn\n",
    "import copy"
   ]
  },
  {
   "cell_type": "code",
   "execution_count": 13,
   "metadata": {},
   "outputs": [],
   "source": [
    "fine_senses_vocab_path = '../resources/semcor.vocab.BabelNet.json'\n",
    "input_vocab_path = '../resources/semcor.input.vocab.json'\n",
    "input_antivocab_path = '../resources/semcor.leftout.vocab.json'"
   ]
  },
  {
   "cell_type": "code",
   "execution_count": 15,
   "metadata": {},
   "outputs": [],
   "source": [
    "senses = utils.json_vocab_reader(fine_senses_vocab_path)\n",
    "inputs, antivocab = utils.json_vocab_reader(input_vocab_path, input_antivocab_path)"
   ]
  },
  {
   "cell_type": "code",
   "execution_count": 20,
   "metadata": {},
   "outputs": [],
   "source": [
    "def vocab_merge(vocab1, vocab2):\n",
    "    \"\"\"\n",
    "    Merges two vocabularies into the first one, keeping the reverse vocabulary consistent.\n",
    "    :param vocab1: First vocabulary (will contain the merged vocabulary), as Dict str -> int\n",
    "    :param rev_vocab1: First reverse vocabulary, as List of str\n",
    "    :param vocab2: Second vocabulary, as Dict str -> int\n",
    "    :return: (vocab1, rev_vocab1) updated to resemble the merged vocabulary\n",
    "    \"\"\"\n",
    "\n",
    "    v1 = copy.deepcopy(vocab1)\n",
    "\n",
    "    for key2 in vocab2.keys():\n",
    "        if key2 not in v1:\n",
    "            v1[key2] = len(v1)\n",
    "\n",
    "    return v1"
   ]
  },
  {
   "cell_type": "code",
   "execution_count": 23,
   "metadata": {},
   "outputs": [],
   "source": [
    "output_vocab = vocab_merge(senses, inputs)"
   ]
  },
  {
   "cell_type": "code",
   "execution_count": 39,
   "metadata": {},
   "outputs": [],
   "source": [
    "def replacement_routine(l, entry):\n",
    "    ret_word = None\n",
    "    if l in antivocab:\n",
    "        ret_word = output_vocab[\"<REPLACEMENT>\"]\n",
    "\n",
    "    if entry.instance or ret_word is None:\n",
    "        if l in output_vocab:\n",
    "            ret_word = output_vocab[l]\n",
    "        elif ret_word is None:\n",
    "            ret_word = output_vocab[\"<UNK>\"]\n",
    "\n",
    "    return ret_word"
   ]
  },
  {
   "cell_type": "code",
   "execution_count": 40,
   "metadata": {},
   "outputs": [],
   "source": [
    "Training_xml = parse.TrainingParser('../resources/WSD_Evaluation_Framework/Training_Corpora/SemCor/semcor.data.xml')"
   ]
  },
  {
   "cell_type": "code",
   "execution_count": 48,
   "metadata": {},
   "outputs": [
    {
     "name": "stdout",
     "output_type": "stream",
     "text": [
      "how\n",
      "long\n",
      "have\n",
      "it\n",
      "be\n",
      "since\n",
      "you\n",
      "review\n",
      "the\n",
      "objective\n",
      "of\n",
      "you\n",
      "benefit\n",
      "and\n",
      "service\n",
      "program\n",
      "?\n"
     ]
    }
   ],
   "source": [
    "for sentence in Training_xml.parse():\n",
    "    for xmlentry in sentence:\n",
    "        iid = xmlentry.id_\n",
    "        lemma = xmlentry.lemma\n",
    "        pos = xmlentry.pos\n",
    "        print(lemma)\n",
    "        sent_word = replacement_routine(l=lemma, entry=xmlentry)\n",
    "        #print(sent_word)\n",
    "    break"
   ]
  },
  {
   "cell_type": "code",
   "execution_count": 45,
   "metadata": {},
   "outputs": [
    {
     "data": {
      "text/plain": [
       "0"
      ]
     },
     "execution_count": 45,
     "metadata": {},
     "output_type": "execute_result"
    }
   ],
   "source": [
    "sent_word"
   ]
  },
  {
   "cell_type": "code",
   "execution_count": 26,
   "metadata": {},
   "outputs": [],
   "source": []
  },
  {
   "cell_type": "code",
   "execution_count": null,
   "metadata": {},
   "outputs": [],
   "source": []
  }
 ],
 "metadata": {
  "kernelspec": {
   "display_name": "Python 3",
   "language": "python",
   "name": "python3"
  },
  "language_info": {
   "codemirror_mode": {
    "name": "ipython",
    "version": 3
   },
   "file_extension": ".py",
   "mimetype": "text/x-python",
   "name": "python",
   "nbconvert_exporter": "python",
   "pygments_lexer": "ipython3",
   "version": "3.6.4"
  }
 },
 "nbformat": 4,
 "nbformat_minor": 2
}
