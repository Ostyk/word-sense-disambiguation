{
 "cells": [
  {
   "cell_type": "code",
   "execution_count": 1,
   "metadata": {},
   "outputs": [],
   "source": [
    "from tqdm import tqdm, tnrange, tqdm_notebook\n",
    "import json\n",
    "import pandas as pd\n",
    "import os\n",
    "from collections import namedtuple\n",
    "\n",
    "import utils\n",
    "import parsers\n",
    "from nltk.corpus import wordnet as wn\n",
    "import copy"
   ]
  },
  {
   "cell_type": "code",
   "execution_count": 2,
   "metadata": {},
   "outputs": [],
   "source": [
    "fine_senses_vocab_path = '../resources/semcor.vocab.WordNet.json'\n",
    "input_vocab_path = '../resources/semcor.input.vocab.json'\n",
    "input_antivocab_path = '../resources/semcor.leftout.vocab.json'"
   ]
  },
  {
   "cell_type": "code",
   "execution_count": 3,
   "metadata": {},
   "outputs": [],
   "source": [
    "senses = utils.json_vocab_reader(fine_senses_vocab_path)\n",
    "inputs, antivocab = utils.json_vocab_reader(input_vocab_path, input_antivocab_path)"
   ]
  },
  {
   "cell_type": "code",
   "execution_count": 4,
   "metadata": {},
   "outputs": [],
   "source": [
    "output_vocab = utils.vocab_merge(senses, inputs)\n",
    "reverse_output_vocab =  dict((v, k) for k, v in output_vocab.items())"
   ]
  },
  {
   "cell_type": "code",
   "execution_count": 42,
   "metadata": {},
   "outputs": [],
   "source": [
    "#output_vocab"
   ]
  },
  {
   "cell_type": "code",
   "execution_count": 219,
   "metadata": {},
   "outputs": [],
   "source": [
    "def apply_padding(output, key, maxlen=50, value=1):\n",
    "    \"\"\"\n",
    "    Applies padding to output sequences\n",
    "    \n",
    "    param output: dict\n",
    "    param key: key of dict\n",
    "    param maxlen: length to pad \n",
    "    param value: pad with this value \n",
    "    return padded list of lists\n",
    "    \"\"\"\n",
    "    x = output[key]\n",
    "    if key == 'candidates':\n",
    "        for candidate in range(len(x)):\n",
    "            x[candidate] =  x[candidate] + [[value]] * (maxlen-len(x[candidate]))\n",
    "        return x\n",
    "    else:\n",
    "        return list(keras.preprocessing.sequence.pad_sequences(x, truncating='pre', padding='post', maxlen=maxlen, value = value ))\n",
    "\n",
    "\n",
    "def prepare_sentence_batch(batch_size, training_file_path, antivocab, output_vocab, gold_file_path = None):\n",
    "    \"\"\"\n",
    "    Batch procesing generator, yields a dict of sentences, candidates and labels if in training mode (determined if gold_file_path is specified)\n",
    "    \n",
    "    param batch_size: \n",
    "    param training_file_path: \n",
    "    param antivocab: \n",
    "    param output_vocab: \n",
    "    param gold_file_path: \n",
    "    return: generator object\n",
    "    \"\"\"\n",
    "    batch = {\"sentences\" : [], \"candidates\" : []}\n",
    "    \n",
    "    training_data_flow = parsers.TrainingParser(training_file_path)\n",
    "    if gold_file_path:\n",
    "        gold_data_flow = parsers.GoldParser(gold_file_path)\n",
    "        batch.update({\"labels\" : []})\n",
    "        \n",
    "    \n",
    "    for batch_count, sentence in enumerate(training_data_flow.parse()):\n",
    "        #training mode\n",
    "        if gold_file_path:\n",
    "            labels = gold_data_flow.parse()         \n",
    "            output = prepare_sentence(sentence, antivocab, output_vocab, labels)\n",
    "            \n",
    "            batch['sentences'].append(output['sentence'])\n",
    "            batch['candidates'].append(output['candidates'])\n",
    "            batch['labels'].append(output['labels'])\n",
    "        \n",
    "        #evaulation mode\n",
    "        else:\n",
    "            output = prepare_sentence(sentence, antivocab, output_vocab)\n",
    "            \n",
    "            batch['sentences'].append(output['sentence'])\n",
    "            batch['candidates'].append(output['candidates'])\n",
    "            \n",
    "        if batch_count == batch_size-1:\n",
    "\n",
    "            for key in batch.keys():\n",
    "                batch[key] = apply_padding(batch, key, maxlen = 50, value = 1)\n",
    "            batch_count = 0\n",
    "            yield batch\n",
    "    del batch\n",
    "    \n",
    "            \n",
    "        \n",
    "def prepare_sentence(sentence, antivocab, output_vocab, labels=None):\n",
    "    \"\"\"\n",
    "    Prepares an output sentence consisting of the sentence itself along with labels and candidates\n",
    "    \n",
    "    param sentence: \n",
    "    param antivocab: \n",
    "    param output_vocab: \n",
    "    param labels: \n",
    "    \n",
    "    return output: dict with keys: sentence, labels, candidates all list type objects\n",
    "    \"\"\"\n",
    "    records = namedtuple(\"Training\", \"id_ lemma pos instance\")\n",
    "\n",
    "    output = {\"sentence\" : [], \"labels\" : [], \"candidates\": []}\n",
    "    for entry in sentence:\n",
    "        \n",
    "        id_, lemma, pos, _ = entry\n",
    "        \n",
    "        output_word = utils.replacement_routine(lemma, entry, antivocab, output_vocab)        \n",
    "        output['sentence'].append(output_word)\n",
    "        \n",
    "        if id_ is None:\n",
    "            output['labels'].append(output_word)\n",
    "            candidates = [output_word]\n",
    "            \n",
    "        else:\n",
    "            if labels is not None:\n",
    "                current_label = labels.__next__()\n",
    "                assert current_label.id_ == id_, \"ID mismatch\"\n",
    "                \n",
    "                sense = current_label.senses[0]\n",
    "                sense = output_vocab[sense] if sense in output_vocab else output_vocab[\"<UNK>\"]\n",
    "                output['labels'].append(sense)\n",
    "            candidates = utils.candidate_synsets(lemma, pos)\n",
    "            candidates = [utils.replacement_routine(c, records(id_=None, lemma=c, pos=\"X\", instance=True), antivocab, output_vocab) for c in candidates]\n",
    "            \n",
    "        output['candidates'].append(candidates)\n",
    "    return output\n",
    "\n",
    "batch = prepare_sentence_batch(batch_size = 5,\n",
    "                               training_file_path = '../resources/WSD_Evaluation_Framework/Training_Corpora/SemCor/semcor.data.xml',\n",
    "                               gold_file_path =  '../resources/WSD_Evaluation_Framework/Training_Corpora/SemCor/semcor.gold.key.txt',\n",
    "                               antivocab = antivocab,\n",
    "                               output_vocab = output_vocab)"
   ]
  },
  {
   "cell_type": "code",
   "execution_count": 220,
   "metadata": {},
   "outputs": [],
   "source": [
    "#b['candidates'][0] + [[1]]*len(b['candidates'][0])"
   ]
  },
  {
   "cell_type": "code",
   "execution_count": 222,
   "metadata": {},
   "outputs": [],
   "source": [
    "for b in batch:\n",
    "    break"
   ]
  },
  {
   "cell_type": "code",
   "execution_count": null,
   "metadata": {},
   "outputs": [],
   "source": []
  },
  {
   "cell_type": "code",
   "execution_count": null,
   "metadata": {},
   "outputs": [],
   "source": [
    "\n"
   ]
  },
  {
   "cell_type": "code",
   "execution_count": null,
   "metadata": {},
   "outputs": [],
   "source": []
  },
  {
   "cell_type": "code",
   "execution_count": null,
   "metadata": {},
   "outputs": [],
   "source": []
  },
  {
   "cell_type": "code",
   "execution_count": 60,
   "metadata": {},
   "outputs": [
    {
     "data": {
      "text/plain": [
       "dict_keys(['sentences', 'candidates', 'labels'])"
      ]
     },
     "execution_count": 60,
     "metadata": {},
     "output_type": "execute_result"
    }
   ],
   "source": [
    "b.keys()"
   ]
  },
  {
   "cell_type": "code",
   "execution_count": 77,
   "metadata": {},
   "outputs": [
    {
     "data": {
      "text/plain": [
       "341"
      ]
     },
     "execution_count": 77,
     "metadata": {},
     "output_type": "execute_result"
    }
   ],
   "source": [
    "len(b['labels'])"
   ]
  },
  {
   "cell_type": "code",
   "execution_count": 225,
   "metadata": {},
   "outputs": [
    {
     "name": "stdout",
     "output_type": "stream",
     "text": [
      "param output: \n",
      "param key: \n",
      "param maxlen=50: \n",
      "param value=1: \n"
     ]
    }
   ],
   "source": [
    "for i in \"output, key, maxlen=50, value=1\".split(\", \"):\n",
    "    print(\"param {}: \".format(i))"
   ]
  },
  {
   "cell_type": "code",
   "execution_count": null,
   "metadata": {},
   "outputs": [],
   "source": [
    "class BasicModel(object):\n",
    "    \n",
    "    def __init__(self, training_file_path, gold_file_path, batch_size = 64, gold_file_path = None):\n",
    "        \n",
    "        self.training_file_path = training_file_path\n",
    "        self.gold_file_path = gold_file_path\n",
    "        self.antivocab = \n",
    "        \n",
    "        pass\n",
    "    \n",
    "    @staticmethod\n",
    "    def apply_padding(output, key, maxlen=50, value=1):\n",
    "    \"\"\"\n",
    "    Applies padding to output sequences\n",
    "    \n",
    "    param output: dict\n",
    "    param key: key of dict\n",
    "    param maxlen: length to pad \n",
    "    param value: pad with this value \n",
    "    return padded list of lists\n",
    "    \"\"\"\n",
    "    x = output[key]\n",
    "    if key == 'candidates':\n",
    "        for candidate in range(len(x)):\n",
    "            x[candidate] =  x[candidate] + [[value]] * (maxlen-len(x[candidate]))\n",
    "        return x\n",
    "    else:\n",
    "        return list(keras.preprocessing.sequence.pad_sequences(x, truncating='pre', padding='post', maxlen=maxlen, value = value ))\n",
    "\n",
    "    @staticmethod\n",
    "    def prepare_sentence(sentence, antivocab, output_vocab, labels=None):\n",
    "    \"\"\"\n",
    "    Prepares an output sentence consisting of the sentence itself along with labels and candidates\n",
    "\n",
    "    param sentence: \n",
    "    param antivocab: \n",
    "    param output_vocab: \n",
    "    param labels: \n",
    "\n",
    "    return output: dict with keys: sentence, labels, candidates all list type objects\n",
    "    \"\"\"\n",
    "    records = namedtuple(\"Training\", \"id_ lemma pos instance\")\n",
    "\n",
    "    output = {\"sentence\" : [], \"labels\" : [], \"candidates\": []}\n",
    "    for entry in sentence:\n",
    "\n",
    "        id_, lemma, pos, _ = entry\n",
    "\n",
    "        output_word = utils.replacement_routine(lemma, entry, antivocab, output_vocab)        \n",
    "        output['sentence'].append(output_word)\n",
    "\n",
    "        if id_ is None:\n",
    "            output['labels'].append(output_word)\n",
    "            candidates = [output_word]\n",
    "\n",
    "        else:\n",
    "            if labels is not None:\n",
    "                current_label = labels.__next__()\n",
    "                assert current_label.id_ == id_, \"ID mismatch\"\n",
    "\n",
    "                sense = current_label.senses[0]\n",
    "                sense = output_vocab[sense] if sense in output_vocab else output_vocab[\"<UNK>\"]\n",
    "                output['labels'].append(sense)\n",
    "            candidates = utils.candidate_synsets(lemma, pos)\n",
    "            candidates = [utils.replacement_routine(c, records(id_=None, lemma=c, pos=\"X\", instance=True), antivocab, output_vocab) for c in candidates]\n",
    "\n",
    "        output['candidates'].append(candidates)\n",
    "    return output\n",
    "    \n",
    "    def prepare_sentence_batch(self, batch_size, training_file_path, antivocab, output_vocab, gold_file_path = None):\n",
    "        \"\"\"\n",
    "        Batch procesing generator, yields a dict of sentences, candidates and labels if in training mode (determined if gold_file_path is specified)\n",
    "\n",
    "        param batch_size: \n",
    "        param training_file_path: \n",
    "        param antivocab: \n",
    "        param output_vocab: \n",
    "        param gold_file_path: \n",
    "        return: generator object\n",
    "        \"\"\"\n",
    "        batch = {\"sentences\" : [], \"candidates\" : []}\n",
    "\n",
    "        training_data_flow = parsers.TrainingParser(training_file_path)\n",
    "        if gold_file_path:\n",
    "            gold_data_flow = parsers.GoldParser(gold_file_path)\n",
    "            batch.update({\"labels\" : []})\n",
    "\n",
    "\n",
    "        for batch_count, sentence in enumerate(training_data_flow.parse()):\n",
    "            #training mode\n",
    "            if gold_file_path:\n",
    "                labels = gold_data_flow.parse()         \n",
    "                output = prepare_sentence(sentence, antivocab, output_vocab, labels)\n",
    "\n",
    "                batch['sentences'].append(output['sentence'])\n",
    "                batch['candidates'].append(output['candidates'])\n",
    "                batch['labels'].append(output['labels'])\n",
    "\n",
    "            #evaulation mode\n",
    "            else:\n",
    "                output = prepare_sentence(sentence, antivocab, output_vocab)\n",
    "\n",
    "                batch['sentences'].append(output['sentence'])\n",
    "                batch['candidates'].append(output['candidates'])\n",
    "\n",
    "            if batch_count == batch_size-1:\n",
    "\n",
    "                for key in batch.keys():\n",
    "                    batch[key] = apply_padding(batch, key, maxlen = 50, value = 1)\n",
    "                batch_count = 0\n",
    "                yield batch\n",
    "        del batch\n",
    "\n",
    "\n",
    "\n"
   ]
  }
 ],
 "metadata": {
  "kernelspec": {
   "display_name": "Python 3",
   "language": "python",
   "name": "python3"
  },
  "language_info": {
   "codemirror_mode": {
    "name": "ipython",
    "version": 3
   },
   "file_extension": ".py",
   "mimetype": "text/x-python",
   "name": "python",
   "nbconvert_exporter": "python",
   "pygments_lexer": "ipython3",
   "version": "3.6.4"
  }
 },
 "nbformat": 4,
 "nbformat_minor": 2
}
