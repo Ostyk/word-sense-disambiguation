{
 "cells": [
  {
   "cell_type": "code",
   "execution_count": 1,
   "metadata": {},
   "outputs": [],
   "source": [
    "#Mulitask"
   ]
  },
  {
   "cell_type": "code",
   "execution_count": 2,
   "metadata": {},
   "outputs": [],
   "source": [
    "class MultiTask(object):\n",
    "    \"\"\"\n",
    "    Word Sense Disambiguiation performed via elaborated methods\n",
    "    \"\"\"\n",
    "    def __init__(self):\n",
    "        pass\n"
   ]
  },
  {
   "cell_type": "code",
   "execution_count": null,
   "metadata": {},
   "outputs": [],
   "source": [
    "def Basic(vocab_size, embedding_size, hidden_size, PADDING_SIZE, LEARNING_RATE, INPUT_DROPOUT, LSTM_DROPOUT,RECURRENT_DROPOUT, N_EPOCHS):\n",
    "    print(\"Creating KERAS model\")\n",
    "    inputs = K.layers.Input(shape=(PADDING_SIZE,))\n",
    "    embeddings = K.layers.Embedding(vocab_size,\n",
    "                                    embedding_size,\n",
    "                                    mask_zero=True,\n",
    "                                    name = 'embedding')(inputs)\n",
    "\n",
    "\n",
    "    BI_LSTM = (K.layers.Bidirectional(\n",
    "               K.layers.LSTM(hidden_size, dropout = LSTM_DROPOUT,\n",
    "                             recurrent_dropout = RECURRENT_DROPOUT,\n",
    "                             return_sequences=True,\n",
    "                             kernel_regularizer=K.regularizers.l2(0.01),\n",
    "                             activity_regularizer=K.regularizers.l1(0.01)\n",
    "                            ), name = 'Bi-directional_LSTM'))(embeddings)\n",
    "\n",
    "    predictions = K.layers.TimeDistributed(K.layers.Dense(vocab_size, activation='softmax'))(BI_LSTM)\n",
    "\n",
    "    model = K.models.Model(inputs=[inputs], outputs=predictions)\n",
    "\n",
    "    model.compile(loss = 'sparse_categorical_crossentropy',\n",
    "                  optimizer = K.optimizers.Adam(lr=LEARNING_RATE, decay = 0.001/N_EPOCHS, amsgrad=False),\n",
    "                  metrics = ['acc'])\n",
    "\n",
    "    return model\n"
   ]
  }
 ],
 "metadata": {
  "kernelspec": {
   "display_name": "Python 3",
   "language": "python",
   "name": "python3"
  },
  "language_info": {
   "codemirror_mode": {
    "name": "ipython",
    "version": 3
   },
   "file_extension": ".py",
   "mimetype": "text/x-python",
   "name": "python",
   "nbconvert_exporter": "python",
   "pygments_lexer": "ipython3",
   "version": "3.6.4"
  }
 },
 "nbformat": 4,
 "nbformat_minor": 2
}
